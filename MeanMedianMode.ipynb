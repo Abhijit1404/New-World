{
 "cells": [
  {
   "cell_type": "code",
   "execution_count": 1,
   "metadata": {
    "collapsed": true
   },
   "outputs": [],
   "source": [
    "import pandas as pd\n",
    "import numpy as np\n",
    "import matplotlib.pyplot as plt"
   ]
  },
  {
   "cell_type": "code",
   "execution_count": 28,
   "metadata": {},
   "outputs": [],
   "source": [
    "ar_1 = np.arange(1,4)"
   ]
  },
  {
   "cell_type": "code",
   "execution_count": 38,
   "metadata": {},
   "outputs": [],
   "source": [
    "def mean(a):\n",
    "    c= 0\n",
    "    d= 0\n",
    "    for i in a:\n",
    "        c= c + i #summation of all the numbers\n",
    "        d= d + 1 # counter\n",
    "    mean_number = c / d\n",
    "    return mean_number"
   ]
  },
  {
   "cell_type": "code",
   "execution_count": 42,
   "metadata": {},
   "outputs": [
    {
     "data": {
      "text/plain": [
       "2.5"
      ]
     },
     "execution_count": 42,
     "metadata": {},
     "output_type": "execute_result"
    }
   ],
   "source": [
    "mean(ar_1)"
   ]
  },
  {
   "cell_type": "code",
   "execution_count": 67,
   "metadata": {
    "collapsed": true
   },
   "outputs": [],
   "source": [
    "def median(a):\n",
    "    d= 0\n",
    "    for i in a:\n",
    "        d= d+1 # counter\n",
    "    if d % 2 == 0:\n",
    "        \n",
    "        index = d //2 \n",
    "        f1 = a[index-1] #index starts from zero\n",
    "        f2 = a[index]\n",
    "        mead = (f1+f2)/2\n",
    "        return mead\n",
    "    else:\n",
    "        index = (d//2) + 1 #getting the index of the number\n",
    "        return a[index-1]"
   ]
  },
  {
   "cell_type": "code",
   "execution_count": 71,
   "metadata": {},
   "outputs": [
    {
     "data": {
      "text/plain": [
       "4.5"
      ]
     },
     "execution_count": 71,
     "metadata": {},
     "output_type": "execute_result"
    }
   ],
   "source": [
    "median(ar_1)"
   ]
  },
  {
   "cell_type": "code",
   "execution_count": 69,
   "metadata": {
    "collapsed": true
   },
   "outputs": [],
   "source": [
    "ar_1 = np.arange(0,10)"
   ]
  },
  {
   "cell_type": "code",
   "execution_count": 70,
   "metadata": {},
   "outputs": [
    {
     "data": {
      "text/plain": [
       "array([0, 1, 2, 3, 4, 5, 6, 7, 8, 9])"
      ]
     },
     "execution_count": 70,
     "metadata": {},
     "output_type": "execute_result"
    }
   ],
   "source": [
    "ar_1"
   ]
  },
  {
   "cell_type": "code",
   "execution_count": 53,
   "metadata": {},
   "outputs": [
    {
     "data": {
      "text/plain": [
       "1.5"
      ]
     },
     "execution_count": 53,
     "metadata": {},
     "output_type": "execute_result"
    }
   ],
   "source": [
    "mean(ar_1)"
   ]
  },
  {
   "cell_type": "code",
   "execution_count": 86,
   "metadata": {
    "collapsed": true
   },
   "outputs": [],
   "source": [
    "def median(a):\n",
    "    c = 0\n",
    "    for i in a :\n",
    "        c = c+1 # counter\n",
    "    if c % 2 == 0:\n",
    "        index = (c // 2)-1\n",
    "        f1 = a[index]\n",
    "        f2 = a[index+1]\n",
    "        mean = (f1+f2)/2\n",
    "        return mean\n",
    "    else:\n",
    "        index = (c // 2)\n",
    "        return a[index]"
   ]
  },
  {
   "cell_type": "code",
   "execution_count": 87,
   "metadata": {
    "collapsed": true
   },
   "outputs": [],
   "source": [
    "ar_1 = np.arange(1,12)"
   ]
  },
  {
   "cell_type": "code",
   "execution_count": 88,
   "metadata": {},
   "outputs": [
    {
     "data": {
      "text/plain": [
       "array([ 1,  2,  3,  4,  5,  6,  7,  8,  9, 10, 11])"
      ]
     },
     "execution_count": 88,
     "metadata": {},
     "output_type": "execute_result"
    }
   ],
   "source": [
    "ar_1"
   ]
  },
  {
   "cell_type": "code",
   "execution_count": 89,
   "metadata": {},
   "outputs": [
    {
     "data": {
      "text/plain": [
       "6.0"
      ]
     },
     "execution_count": 89,
     "metadata": {},
     "output_type": "execute_result"
    }
   ],
   "source": [
    "mean(ar_1)"
   ]
  },
  {
   "cell_type": "code",
   "execution_count": 90,
   "metadata": {},
   "outputs": [
    {
     "data": {
      "text/plain": [
       "6"
      ]
     },
     "execution_count": 90,
     "metadata": {},
     "output_type": "execute_result"
    }
   ],
   "source": [
    "median(ar_1)"
   ]
  },
  {
   "cell_type": "code",
   "execution_count": 91,
   "metadata": {
    "collapsed": true
   },
   "outputs": [],
   "source": [
    "ar_2 = np.random.randn(10)"
   ]
  },
  {
   "cell_type": "code",
   "execution_count": 92,
   "metadata": {},
   "outputs": [
    {
     "data": {
      "text/plain": [
       "array([-1.78910741, -0.46104106,  0.78424973,  1.75061352,  0.66960268,\n",
       "        0.78159895,  1.19640544,  0.99431449,  0.31390031, -0.83238815])"
      ]
     },
     "execution_count": 92,
     "metadata": {},
     "output_type": "execute_result"
    }
   ],
   "source": [
    "ar_2"
   ]
  },
  {
   "cell_type": "code",
   "execution_count": 99,
   "metadata": {
    "collapsed": true
   },
   "outputs": [],
   "source": [
    "ar_3 = np.random.randint(50, 100, size = 10)"
   ]
  },
  {
   "cell_type": "code",
   "execution_count": 100,
   "metadata": {},
   "outputs": [
    {
     "data": {
      "text/plain": [
       "array([60, 50, 77, 86, 67, 75, 73, 68, 91, 88])"
      ]
     },
     "execution_count": 100,
     "metadata": {},
     "output_type": "execute_result"
    }
   ],
   "source": [
    "ar_3"
   ]
  },
  {
   "cell_type": "code",
   "execution_count": 101,
   "metadata": {},
   "outputs": [
    {
     "data": {
      "text/plain": [
       "73.5"
      ]
     },
     "execution_count": 101,
     "metadata": {},
     "output_type": "execute_result"
    }
   ],
   "source": [
    "mean(ar_3)"
   ]
  },
  {
   "cell_type": "code",
   "execution_count": 102,
   "metadata": {},
   "outputs": [
    {
     "data": {
      "text/plain": [
       "0.34081484928958189"
      ]
     },
     "execution_count": 102,
     "metadata": {},
     "output_type": "execute_result"
    }
   ],
   "source": [
    "mean(ar_2)"
   ]
  },
  {
   "cell_type": "code",
   "execution_count": 103,
   "metadata": {},
   "outputs": [
    {
     "data": {
      "text/plain": [
       "71.0"
      ]
     },
     "execution_count": 103,
     "metadata": {},
     "output_type": "execute_result"
    }
   ],
   "source": [
    "median(ar_3)"
   ]
  },
  {
   "cell_type": "code",
   "execution_count": 142,
   "metadata": {},
   "outputs": [
    {
     "name": "stdout",
     "output_type": "stream",
     "text": [
      "[1 2 3 4 4 4 5 3]\n"
     ]
    }
   ],
   "source": [
    "arr_4 = np.array([1,2,3,4,4,4,5,3])\n",
    "print(arr_4)"
   ]
  },
  {
   "cell_type": "code",
   "execution_count": 140,
   "metadata": {},
   "outputs": [],
   "source": [
    "def mode(a):\n",
    "    c = 0\n",
    "    c2 = 0\n",
    "    for i in a:\n",
    "        for j in a:\n",
    "            if  i == j:\n",
    "                c = c+1\n",
    "        if c2 <= c:\n",
    "            c2 = c\n",
    "        return c2\n",
    "        c = 0\n",
    "    return c2\n"
   ]
  },
  {
   "cell_type": "code",
   "execution_count": 141,
   "metadata": {},
   "outputs": [
    {
     "data": {
      "text/plain": [
       "1"
      ]
     },
     "execution_count": 141,
     "metadata": {},
     "output_type": "execute_result"
    }
   ],
   "source": [
    "mode(arr_4)"
   ]
  },
  {
   "cell_type": "code",
   "execution_count": 161,
   "metadata": {},
   "outputs": [],
   "source": [
    "\n",
    "    "
   ]
  },
  {
   "cell_type": "markdown",
   "metadata": {},
   "source": []
  },
  {
   "cell_type": "code",
   "execution_count": 162,
   "metadata": {},
   "outputs": [
    {
     "data": {
      "text/plain": [
       "4"
      ]
     },
     "execution_count": 162,
     "metadata": {},
     "output_type": "execute_result"
    }
   ],
   "source": [
    "mode_list(arr_4)"
   ]
  },
  {
   "cell_type": "code",
   "execution_count": 126,
   "metadata": {},
   "outputs": [
    {
     "data": {
      "text/plain": [
       "array([1, 2, 3, 4, 4, 4, 5, 3])"
      ]
     },
     "execution_count": 126,
     "metadata": {},
     "output_type": "execute_result"
    }
   ],
   "source": [
    "arr_4"
   ]
  },
  {
   "cell_type": "code",
   "execution_count": 143,
   "metadata": {
    "collapsed": true
   },
   "outputs": [],
   "source": [
    "def count(a):\n",
    "    c = 0\n",
    "    for i in a:\n",
    "        c = c+1\n",
    "    return c"
   ]
  },
  {
   "cell_type": "code",
   "execution_count": 144,
   "metadata": {},
   "outputs": [
    {
     "data": {
      "text/plain": [
       "8"
      ]
     },
     "execution_count": 144,
     "metadata": {},
     "output_type": "execute_result"
    }
   ],
   "source": [
    "count(arr_4)"
   ]
  },
  {
   "cell_type": "code",
   "execution_count": 148,
   "metadata": {
    "collapsed": true
   },
   "outputs": [],
   "source": [
    "list_1 = [1,3,4,5,6,4,2,1]"
   ]
  },
  {
   "cell_type": "code",
   "execution_count": 149,
   "metadata": {},
   "outputs": [
    {
     "data": {
      "text/plain": [
       "6"
      ]
     },
     "execution_count": 149,
     "metadata": {},
     "output_type": "execute_result"
    }
   ],
   "source": [
    "max(list_1)"
   ]
  },
  {
   "cell_type": "code",
   "execution_count": 163,
   "metadata": {
    "collapsed": true
   },
   "outputs": [],
   "source": [
    "arr_5 = np.random.randint(2,20, size = 25)"
   ]
  },
  {
   "cell_type": "code",
   "execution_count": 164,
   "metadata": {},
   "outputs": [
    {
     "data": {
      "text/plain": [
       "array([ 5, 13,  7, 11,  7, 10, 19,  6, 11,  4, 16,  9,  5, 14,  9, 13,  8,\n",
       "        2, 11,  3, 18, 19,  4, 11, 11])"
      ]
     },
     "execution_count": 164,
     "metadata": {},
     "output_type": "execute_result"
    }
   ],
   "source": [
    "arr_5"
   ]
  },
  {
   "cell_type": "code",
   "execution_count": 166,
   "metadata": {},
   "outputs": [
    {
     "data": {
      "text/plain": [
       "11"
      ]
     },
     "execution_count": 166,
     "metadata": {},
     "output_type": "execute_result"
    }
   ],
   "source": [
    "mode_list(arr_5)"
   ]
  },
  {
   "cell_type": "code",
   "execution_count": 201,
   "metadata": {},
   "outputs": [],
   "source": [
    "arr_6 = np.array([1,1,1,1,1,2,2,2,2,2,3,4,5,6])"
   ]
  },
  {
   "cell_type": "code",
   "execution_count": 225,
   "metadata": {},
   "outputs": [
    {
     "name": "stdout",
     "output_type": "stream",
     "text": [
      "[1, 1, 1, 1, 1, 2, 2, 2, 2, 2, 3, 4, 5, 6]\n",
      "{1, 2, 3, 4, 5, 6}\n",
      "[1, 2, 3, 4, 5, 6]\n"
     ]
    }
   ],
   "source": [
    "list_6 = arr_6.tolist()\n",
    "print (list_6)\n",
    "set_6 = set(list_6)\n",
    "print (set_6)\n",
    "new_list = []\n",
    "for z in set_6:\n",
    "    new_list.append(z)\n",
    "print(new_list)\n",
    "#list_6_new = list(set_6)\n",
    "#print(list_6.count(set_6[0]))"
   ]
  },
  {
   "cell_type": "code",
   "execution_count": 202,
   "metadata": {},
   "outputs": [
    {
     "name": "stdout",
     "output_type": "stream",
     "text": [
      "1\n",
      "10\n",
      "(1, 10)\n",
      "[5, 5, 5, 5, 5, 5, 5, 5, 5, 5, 1, 1, 1, 1]\n"
     ]
    }
   ],
   "source": [
    "mode_list(arr_6)"
   ]
  },
  {
   "cell_type": "code",
   "execution_count": 226,
   "metadata": {
    "collapsed": true
   },
   "outputs": [],
   "source": [
    "lit = [5,5,1,2,4]"
   ]
  },
  {
   "cell_type": "code",
   "execution_count": 227,
   "metadata": {},
   "outputs": [
    {
     "data": {
      "text/plain": [
       "0"
      ]
     },
     "execution_count": 227,
     "metadata": {},
     "output_type": "execute_result"
    }
   ],
   "source": [
    "lit.index(5)"
   ]
  },
  {
   "cell_type": "code",
   "execution_count": 196,
   "metadata": {},
   "outputs": [],
   "source": [
    "def mode_list(a):\n",
    "    c = 0\n",
    "    list = []\n",
    "    master_list = []\n",
    "    for i in a:\n",
    "         \n",
    "            for j in a:\n",
    "                if i == j:\n",
    "                    c = c+1\n",
    "            list.append(c)\n",
    "            c = 0\n",
    "        \n",
    "        \n",
    "    #return list\n",
    "    \n",
    "    max_repition = max(list)\n",
    "    main_index = list.index(max_repition)\n",
    "    print (a[main_index])\n",
    "    print (list.count(max(list)))\n",
    "    Tuple = (a[main_index],list.count(max(list)))\n",
    "    print (Tuple)\n",
    "    print (list)"
   ]
  },
  {
   "cell_type": "code",
   "execution_count": 197,
   "metadata": {},
   "outputs": [
    {
     "name": "stdout",
     "output_type": "stream",
     "text": [
      "1\n",
      "10\n",
      "(1, 10)\n",
      "[5, 5, 5, 5, 5, 5, 5, 5, 5, 5, 1, 1, 1, 1]\n"
     ]
    }
   ],
   "source": [
    "mode_list(arr_6)"
   ]
  },
  {
   "cell_type": "code",
   "execution_count": 193,
   "metadata": {},
   "outputs": [],
   "source": [
    "arr_6 = np.array([1, 1, 1, 1,1, 2, 2, 2, 2, 2, 3, 4, 5, 6])"
   ]
  },
  {
   "cell_type": "code",
   "execution_count": 182,
   "metadata": {},
   "outputs": [
    {
     "data": {
      "text/plain": [
       "5"
      ]
     },
     "execution_count": 182,
     "metadata": {},
     "output_type": "execute_result"
    }
   ],
   "source": [
    "list_e.count(5)"
   ]
  },
  {
   "cell_type": "code",
   "execution_count": 194,
   "metadata": {},
   "outputs": [],
   "source": [
    "def mode_list(a):\n",
    "    c = 0\n",
    "    list = []\n",
    "    master_list = []\n",
    "    master = 0\n",
    "    while master < len(a):\n",
    "        for i in a:\n",
    "\n",
    "                for j in a:\n",
    "                    if i == j:\n",
    "                        c = c+1\n",
    "                list.append(c)\n",
    "                c = 0\n",
    "\n",
    "\n",
    "        #return list\n",
    "\n",
    "        max_repition = max(list)\n",
    "        main_index = list.index(max_repition)\n",
    "        \n",
    "        master = master +1\n",
    "    print (a[main_index])\n",
    "    print (list.count(max(list)))\n",
    "    Tuple = (a[main_index],list.count(max(list)))\n",
    "    print (Tuple)\n",
    "    master_list.append(Tuple)\n",
    "    print (master_list)\n",
    "    print (list)"
   ]
  },
  {
   "cell_type": "code",
   "execution_count": 228,
   "metadata": {},
   "outputs": [
    {
     "name": "stdout",
     "output_type": "stream",
     "text": [
      "1\n",
      "10\n",
      "(1, 10)\n",
      "[5, 5, 5, 5, 5, 5, 5, 5, 5, 5, 1, 1, 1, 1]\n"
     ]
    }
   ],
   "source": [
    "mode_list(arr_6)"
   ]
  },
  {
   "cell_type": "code",
   "execution_count": 260,
   "metadata": {},
   "outputs": [],
   "source": [
    "def mode(a):\n",
    "    list_count = []\n",
    "    \n",
    "    list_ia = [] #converting the input array into a list\n",
    "    for y in a:\n",
    "        list_ia.append(y)\n",
    "    \n",
    "    set_a = set(a) # We got unique elements of input array in list_a in this block\n",
    "    list_a = []\n",
    "    for i in set_a:\n",
    "        list_a.append(i)\n",
    "    \n",
    "    for j in list_a: #We got the list of count in this block\n",
    "        c = list_ia.count(j)\n",
    "        list_count.append(c)\n",
    "        \n",
    "    maximum_count = max(list_count)\n",
    "    l = 0\n",
    "    list_index = []\n",
    "    while l < len(list_count): # We are finding the indices of the highest count\n",
    "        if list_count[l] == maximum_count:\n",
    "            list_index.append(l)\n",
    "        l = l+1\n",
    "    \n",
    "    #master_list = []\n",
    "    for t in list_index:\n",
    "        print(list_a[t],'is', list_count[t], 'times')\n",
    "    \n",
    "    \n",
    "    #print(list_a)\n",
    "    #print(list_count)\n",
    "    #print(list_index)\n",
    "    \n",
    "        "
   ]
  },
  {
   "cell_type": "code",
   "execution_count": 261,
   "metadata": {},
   "outputs": [
    {
     "data": {
      "text/plain": [
       "array([1, 1, 1, 1, 1, 2, 2, 2, 2, 2, 3, 4, 5, 6])"
      ]
     },
     "execution_count": 261,
     "metadata": {},
     "output_type": "execute_result"
    }
   ],
   "source": [
    "arr_6"
   ]
  },
  {
   "cell_type": "code",
   "execution_count": 262,
   "metadata": {},
   "outputs": [
    {
     "name": "stdout",
     "output_type": "stream",
     "text": [
      "1 is 5 times\n",
      "2 is 5 times\n"
     ]
    }
   ],
   "source": [
    "mode(arr_6)"
   ]
  },
  {
   "cell_type": "code",
   "execution_count": 263,
   "metadata": {
    "collapsed": true
   },
   "outputs": [],
   "source": [
    "arr_7 = np.array([1, 1, 1, 1, 1, 2, 2, 2, 2, 2, 3,3,3,3,3, 4, 5, 6])"
   ]
  },
  {
   "cell_type": "code",
   "execution_count": 264,
   "metadata": {},
   "outputs": [
    {
     "name": "stdout",
     "output_type": "stream",
     "text": [
      "1 is 5 times\n",
      "2 is 5 times\n",
      "3 is 5 times\n"
     ]
    }
   ],
   "source": [
    "mode(arr_7)"
   ]
  },
  {
   "cell_type": "code",
   "execution_count": 265,
   "metadata": {
    "collapsed": true
   },
   "outputs": [],
   "source": [
    "#calculation of variance"
   ]
  },
  {
   "cell_type": "code",
   "execution_count": 266,
   "metadata": {
    "collapsed": true
   },
   "outputs": [],
   "source": [
    "arr_8 = np.random.randint(10, 20, size = 20)"
   ]
  },
  {
   "cell_type": "code",
   "execution_count": 267,
   "metadata": {},
   "outputs": [
    {
     "data": {
      "text/plain": [
       "array([12, 15, 15, 11, 14, 17, 18, 17, 18, 19, 11, 11, 10, 14, 14, 10, 13,\n",
       "       11, 10, 11])"
      ]
     },
     "execution_count": 267,
     "metadata": {},
     "output_type": "execute_result"
    }
   ],
   "source": [
    "arr_8"
   ]
  },
  {
   "cell_type": "code",
   "execution_count": 286,
   "metadata": {
    "collapsed": true
   },
   "outputs": [],
   "source": [
    "def variance(a):\n",
    "    \n",
    "    count = 0\n",
    "    for i in a:\n",
    "        count = count + 1\n",
    "    \n",
    "    mean_a = mean(a)\n",
    "    \n",
    "    list_new = []\n",
    "    t = 0\n",
    "    for i in a:\n",
    "        t = t + (i - mean_a)**2\n",
    "    variance = t/(count-1)\n",
    "    standard_dev = variance ** 0.5\n",
    "    \n",
    "    print(\"variance is\", variance, 'and std_dev is', standard_dev )\n",
    "    #rint(standard_dev)\n",
    "        \n",
    "    "
   ]
  },
  {
   "cell_type": "code",
   "execution_count": 287,
   "metadata": {},
   "outputs": [
    {
     "name": "stdout",
     "output_type": "stream",
     "text": [
      "variance is 8.99736842105 and std_dev is 2.99956137144\n"
     ]
    }
   ],
   "source": [
    "variance(arr_8)"
   ]
  },
  {
   "cell_type": "code",
   "execution_count": 288,
   "metadata": {},
   "outputs": [],
   "source": [
    "list_yy = [1,34,2,34,2,12,3,89,56,6,5]"
   ]
  },
  {
   "cell_type": "code",
   "execution_count": 293,
   "metadata": {},
   "outputs": [],
   "source": [
    "arr_yy = np.array(list_yy)"
   ]
  },
  {
   "cell_type": "code",
   "execution_count": 294,
   "metadata": {},
   "outputs": [
    {
     "data": {
      "text/plain": [
       "array([ 1,  2,  2,  3,  5,  6, 12, 34, 34, 56, 89])"
      ]
     },
     "execution_count": 294,
     "metadata": {},
     "output_type": "execute_result"
    }
   ],
   "source": [
    "arr_yy"
   ]
  },
  {
   "cell_type": "code",
   "execution_count": 308,
   "metadata": {
    "collapsed": true
   },
   "outputs": [],
   "source": [
    "arr_yy = np.random.randint(10, 20, size = 20)"
   ]
  },
  {
   "cell_type": "code",
   "execution_count": 309,
   "metadata": {},
   "outputs": [
    {
     "data": {
      "text/plain": [
       "array([15, 13, 16, 15, 14, 18, 16, 18, 17, 10, 13, 11, 12, 15, 17, 11, 16,\n",
       "       17, 18, 13])"
      ]
     },
     "execution_count": 309,
     "metadata": {},
     "output_type": "execute_result"
    }
   ],
   "source": [
    "arr_yy"
   ]
  },
  {
   "cell_type": "code",
   "execution_count": 310,
   "metadata": {},
   "outputs": [
    {
     "name": "stdout",
     "output_type": "stream",
     "text": [
      "[15, 13, 16, 15, 14, 18, 16, 18, 17, 10, 13, 11, 12, 15, 17, 11, 16, 17, 18, 13]\n"
     ]
    }
   ],
   "source": [
    "l = []\n",
    "for i in arr_yy:\n",
    "    l.append(i)\n",
    "    \n",
    "print(l)"
   ]
  },
  {
   "cell_type": "code",
   "execution_count": 302,
   "metadata": {},
   "outputs": [
    {
     "data": {
      "text/plain": [
       "numpy.ndarray"
      ]
     },
     "execution_count": 302,
     "metadata": {},
     "output_type": "execute_result"
    }
   ],
   "source": [
    "arr_yy_2 = np.array(l)\n",
    "type(arr_yy_2)"
   ]
  },
  {
   "cell_type": "code",
   "execution_count": 306,
   "metadata": {},
   "outputs": [
    {
     "name": "stdout",
     "output_type": "stream",
     "text": [
      "None\n"
     ]
    }
   ],
   "source": [
    "arr_yy_2 = np.array(l.sort())\n",
    "print(arr_yy_2)"
   ]
  },
  {
   "cell_type": "code",
   "execution_count": 315,
   "metadata": {},
   "outputs": [
    {
     "name": "stdout",
     "output_type": "stream",
     "text": [
      "None\n"
     ]
    }
   ],
   "source": [
    "l = l.sort()\n",
    "print (l)"
   ]
  },
  {
   "cell_type": "code",
   "execution_count": 314,
   "metadata": {},
   "outputs": [
    {
     "data": {
      "text/plain": [
       "[10,\n",
       " 11,\n",
       " 11,\n",
       " 12,\n",
       " 13,\n",
       " 13,\n",
       " 13,\n",
       " 14,\n",
       " 15,\n",
       " 15,\n",
       " 15,\n",
       " 16,\n",
       " 16,\n",
       " 16,\n",
       " 17,\n",
       " 17,\n",
       " 17,\n",
       " 18,\n",
       " 18,\n",
       " 18]"
      ]
     },
     "execution_count": 314,
     "metadata": {},
     "output_type": "execute_result"
    }
   ],
   "source": [
    "l"
   ]
  },
  {
   "cell_type": "code",
   "execution_count": null,
   "metadata": {
    "collapsed": true
   },
   "outputs": [],
   "source": []
  }
 ],
 "metadata": {
  "kernelspec": {
   "display_name": "Python 3",
   "language": "python",
   "name": "python3"
  },
  "language_info": {
   "codemirror_mode": {
    "name": "ipython",
    "version": 3
   },
   "file_extension": ".py",
   "mimetype": "text/x-python",
   "name": "python",
   "nbconvert_exporter": "python",
   "pygments_lexer": "ipython3",
   "version": "3.6.1"
  }
 },
 "nbformat": 4,
 "nbformat_minor": 2
}
